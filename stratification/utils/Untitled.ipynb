{
 "cells": [
  {
   "cell_type": "code",
   "execution_count": 3,
   "id": "f6223bcb-705d-4af1-8bc1-d833a31db0fe",
   "metadata": {},
   "outputs": [],
   "source": [
    "import datetime\n",
    "from datetime import datetime, timedelta"
   ]
  },
  {
   "cell_type": "code",
   "execution_count": 30,
   "id": "70bc4b84-9c60-4bc5-a84b-1d7a38f755cf",
   "metadata": {},
   "outputs": [],
   "source": [
    "tenmin_td = timedelta(minutes=10)\n",
    "hour_td = timedelta(hours=1)"
   ]
  },
  {
   "cell_type": "code",
   "execution_count": 14,
   "id": "fc6c4b75-2eb4-4998-a9bd-bfdd86049f66",
   "metadata": {},
   "outputs": [
    {
     "data": {
      "text/plain": [
       "'0:09:00'"
      ]
     },
     "execution_count": 14,
     "metadata": {},
     "output_type": "execute_result"
    }
   ],
   "source": [
    "str(tenmin_td)"
   ]
  },
  {
   "cell_type": "code",
   "execution_count": 31,
   "id": "33ef3796-9a96-4e0c-b321-54c081254ac2",
   "metadata": {},
   "outputs": [],
   "source": [
    "def format_timedelta(timedelta):\n",
    "    s = str(timedelta)\n",
    "    if timedelta < tenmin_td:\n",
    "        return s[3:]\n",
    "    if timedelta < hour_td:\n",
    "        return s[2:]\n",
    "    return s\n"
   ]
  },
  {
   "cell_type": "code",
   "execution_count": 32,
   "id": "a9e0dc14-f6dd-49d0-8643-1b10453dd54d",
   "metadata": {},
   "outputs": [
    {
     "data": {
      "text/plain": [
       "'9:00'"
      ]
     },
     "execution_count": 32,
     "metadata": {},
     "output_type": "execute_result"
    }
   ],
   "source": [
    "format_timedelta(timedelta(minutes=9))"
   ]
  },
  {
   "cell_type": "code",
   "execution_count": 33,
   "id": "00e71688-cb4d-49d7-afa2-1da1ba4deda2",
   "metadata": {},
   "outputs": [
    {
     "data": {
      "text/plain": [
       "'0:10:00'"
      ]
     },
     "execution_count": 33,
     "metadata": {},
     "output_type": "execute_result"
    }
   ],
   "source": [
    "str(timedelta(minutes=10))"
   ]
  },
  {
   "cell_type": "code",
   "execution_count": null,
   "id": "128eebf3-a47b-4fae-8918-dee984a40f9e",
   "metadata": {},
   "outputs": [],
   "source": []
  }
 ],
 "metadata": {
  "kernelspec": {
   "display_name": "Python 3 (ipykernel)",
   "language": "python",
   "name": "python3"
  },
  "language_info": {
   "codemirror_mode": {
    "name": "ipython",
    "version": 3
   },
   "file_extension": ".py",
   "mimetype": "text/x-python",
   "name": "python",
   "nbconvert_exporter": "python",
   "pygments_lexer": "ipython3",
   "version": "3.9.13"
  }
 },
 "nbformat": 4,
 "nbformat_minor": 5
}
